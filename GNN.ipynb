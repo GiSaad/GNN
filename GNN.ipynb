{
  "nbformat": 4,
  "nbformat_minor": 0,
  "metadata": {
    "colab": {
      "provenance": []
    },
    "kernelspec": {
      "name": "python3",
      "display_name": "Python 3"
    },
    "language_info": {
      "name": "python"
    }
  },
  "cells": [
    {
      "cell_type": "code",
      "source": [
        "!pip install torch_geometric"
      ],
      "metadata": {
        "colab": {
          "base_uri": "https://localhost:8080/"
        },
        "id": "jpm_poiyp16I",
        "outputId": "4dcfb94f-ebc3-40b1-c892-fe67837fd8d3"
      },
      "execution_count": 2,
      "outputs": [
        {
          "output_type": "stream",
          "name": "stdout",
          "text": [
            "Collecting torch_geometric\n",
            "  Downloading torch_geometric-2.6.1-py3-none-any.whl.metadata (63 kB)\n",
            "\u001b[?25l     \u001b[90m━━━━━━━━━━━━━━━━━━━━━━━━━━━━━━━━━━━━━━━━\u001b[0m \u001b[32m0.0/63.1 kB\u001b[0m \u001b[31m?\u001b[0m eta \u001b[36m-:--:--\u001b[0m\r\u001b[2K     \u001b[90m━━━━━━━━━━━━━━━━━━━━━━━━━━━━━━━━━━━━━━━━\u001b[0m \u001b[32m63.1/63.1 kB\u001b[0m \u001b[31m1.6 MB/s\u001b[0m eta \u001b[36m0:00:00\u001b[0m\n",
            "\u001b[?25hRequirement already satisfied: aiohttp in /usr/local/lib/python3.11/dist-packages (from torch_geometric) (3.11.15)\n",
            "Requirement already satisfied: fsspec in /usr/local/lib/python3.11/dist-packages (from torch_geometric) (2025.3.2)\n",
            "Requirement already satisfied: jinja2 in /usr/local/lib/python3.11/dist-packages (from torch_geometric) (3.1.6)\n",
            "Requirement already satisfied: numpy in /usr/local/lib/python3.11/dist-packages (from torch_geometric) (2.0.2)\n",
            "Requirement already satisfied: psutil>=5.8.0 in /usr/local/lib/python3.11/dist-packages (from torch_geometric) (5.9.5)\n",
            "Requirement already satisfied: pyparsing in /usr/local/lib/python3.11/dist-packages (from torch_geometric) (3.2.3)\n",
            "Requirement already satisfied: requests in /usr/local/lib/python3.11/dist-packages (from torch_geometric) (2.32.3)\n",
            "Requirement already satisfied: tqdm in /usr/local/lib/python3.11/dist-packages (from torch_geometric) (4.67.1)\n",
            "Requirement already satisfied: aiohappyeyeballs>=2.3.0 in /usr/local/lib/python3.11/dist-packages (from aiohttp->torch_geometric) (2.6.1)\n",
            "Requirement already satisfied: aiosignal>=1.1.2 in /usr/local/lib/python3.11/dist-packages (from aiohttp->torch_geometric) (1.3.2)\n",
            "Requirement already satisfied: attrs>=17.3.0 in /usr/local/lib/python3.11/dist-packages (from aiohttp->torch_geometric) (25.3.0)\n",
            "Requirement already satisfied: frozenlist>=1.1.1 in /usr/local/lib/python3.11/dist-packages (from aiohttp->torch_geometric) (1.7.0)\n",
            "Requirement already satisfied: multidict<7.0,>=4.5 in /usr/local/lib/python3.11/dist-packages (from aiohttp->torch_geometric) (6.6.3)\n",
            "Requirement already satisfied: propcache>=0.2.0 in /usr/local/lib/python3.11/dist-packages (from aiohttp->torch_geometric) (0.3.2)\n",
            "Requirement already satisfied: yarl<2.0,>=1.17.0 in /usr/local/lib/python3.11/dist-packages (from aiohttp->torch_geometric) (1.20.1)\n",
            "Requirement already satisfied: MarkupSafe>=2.0 in /usr/local/lib/python3.11/dist-packages (from jinja2->torch_geometric) (3.0.2)\n",
            "Requirement already satisfied: charset-normalizer<4,>=2 in /usr/local/lib/python3.11/dist-packages (from requests->torch_geometric) (3.4.2)\n",
            "Requirement already satisfied: idna<4,>=2.5 in /usr/local/lib/python3.11/dist-packages (from requests->torch_geometric) (3.10)\n",
            "Requirement already satisfied: urllib3<3,>=1.21.1 in /usr/local/lib/python3.11/dist-packages (from requests->torch_geometric) (2.4.0)\n",
            "Requirement already satisfied: certifi>=2017.4.17 in /usr/local/lib/python3.11/dist-packages (from requests->torch_geometric) (2025.6.15)\n",
            "Downloading torch_geometric-2.6.1-py3-none-any.whl (1.1 MB)\n",
            "\u001b[2K   \u001b[90m━━━━━━━━━━━━━━━━━━━━━━━━━━━━━━━━━━━━━━━━\u001b[0m \u001b[32m1.1/1.1 MB\u001b[0m \u001b[31m16.5 MB/s\u001b[0m eta \u001b[36m0:00:00\u001b[0m\n",
            "\u001b[?25hInstalling collected packages: torch_geometric\n",
            "Successfully installed torch_geometric-2.6.1\n"
          ]
        }
      ]
    },
    {
      "cell_type": "code",
      "execution_count": 3,
      "metadata": {
        "colab": {
          "base_uri": "https://localhost:8080/"
        },
        "id": "l8yyMswXo7h9",
        "outputId": "7529a954-d8f5-4783-d12b-32b4dbcb5505"
      },
      "outputs": [
        {
          "output_type": "stream",
          "name": "stderr",
          "text": [
            "Downloading https://github.com/kimiyoung/planetoid/raw/master/data/ind.cora.x\n",
            "Downloading https://github.com/kimiyoung/planetoid/raw/master/data/ind.cora.tx\n",
            "Downloading https://github.com/kimiyoung/planetoid/raw/master/data/ind.cora.allx\n",
            "Downloading https://github.com/kimiyoung/planetoid/raw/master/data/ind.cora.y\n",
            "Downloading https://github.com/kimiyoung/planetoid/raw/master/data/ind.cora.ty\n",
            "Downloading https://github.com/kimiyoung/planetoid/raw/master/data/ind.cora.ally\n",
            "Downloading https://github.com/kimiyoung/planetoid/raw/master/data/ind.cora.graph\n",
            "Downloading https://github.com/kimiyoung/planetoid/raw/master/data/ind.cora.test.index\n",
            "Processing...\n"
          ]
        },
        {
          "output_type": "stream",
          "name": "stdout",
          "text": [
            "Number of nodes: 2708\n",
            "Number of edges: 10556\n",
            "Number of features per node: 1433\n",
            "Number of classes: 7\n"
          ]
        },
        {
          "output_type": "stream",
          "name": "stderr",
          "text": [
            "Done!\n"
          ]
        }
      ],
      "source": [
        "import torch\n",
        "from torch_geometric.datasets import Planetoid\n",
        "import torch_geometric.transforms as T\n",
        "import matplotlib.pyplot as plt\n",
        "import networkx as nx\n",
        "\n",
        "# Load the Cora dataset\n",
        "dataset = Planetoid(root='/tmp/Cora', name='Cora')\n",
        "data = dataset[0]\n",
        "\n",
        "# Print dataset statistics\n",
        "print(f'Number of nodes: {data.num_nodes}')\n",
        "print(f'Number of edges: {data.num_edges}')\n",
        "print(f'Number of features per node: {dataset.num_node_features}')\n",
        "print(f'Number of classes: {dataset.num_classes}')"
      ]
    },
    {
      "cell_type": "code",
      "source": [
        "# Convert to networkx graph for visualization\n",
        "g = nx.Graph()\n",
        "g.add_edges_from(data.edge_index.t().tolist())\n",
        "\n",
        "# Draw a small subgraph\n",
        "subgraph_nodes = list(range(100))\n",
        "subgraph = g.subgraph(subgraph_nodes)\n",
        "\n",
        "plt.figure(figsize=(10, 10))\n",
        "nx.draw(subgraph, with_labels=False, node_size=10, width=0.5)\n",
        "plt.title('Subgraph of the Cora Dataset')\n",
        "plt.show()"
      ],
      "metadata": {
        "colab": {
          "base_uri": "https://localhost:8080/",
          "height": 1000
        },
        "id": "Rfxd3QiBqV11",
        "outputId": "4dcdbadb-30aa-4f4b-e236-ad9c706cb1a3"
      },
      "execution_count": 4,
      "outputs": [
        {
          "output_type": "display_data",
          "data": {
            "text/plain": [
              "<Figure size 1000x1000 with 1 Axes>"
            ],
            "image/png": "[encoded data removed]"
          },
          "metadata": {}
        }
      ]
    },
    {
      "cell_type": "code",
      "source": [
        "from torch_geometric.nn import GCNConv\n",
        "\n",
        "class GCN(torch.nn.Module):\n",
        "    def __init__(self, hidden_channels):\n",
        "        super(GCN, self).__init__()\n",
        "        self.conv1 = GCNConv(dataset.num_node_features, hidden_channels)\n",
        "        self.conv2 = GCNConv(hidden_channels, dataset.num_classes)\n",
        "\n",
        "    def forward(self, x, edge_index):\n",
        "        x = self.conv1(x, edge_index)\n",
        "        x = x.relu()\n",
        "        x = self.conv2(x, edge_index)\n",
        "        return x\n",
        "\n",
        "model = GCN(hidden_channels=16)\n",
        "print(model)"
      ],
      "metadata": {
        "colab": {
          "base_uri": "https://localhost:8080/"
        },
        "id": "rnbIjkr6sAbE",
        "outputId": "cfabfd3f-0441-4585-a450-db025fde8376"
      },
      "execution_count": 5,
      "outputs": [
        {
          "output_type": "stream",
          "name": "stdout",
          "text": [
            "GCN(\n",
            "  (conv1): GCNConv(1433, 16)\n",
            "  (conv2): GCNConv(16, 7)\n",
            ")\n"
          ]
        }
      ]
    },
    {
      "cell_type": "code",
      "source": [
        "optimizer = torch.optim.Adam(model.parameters(), lr=0.01, weight_decay=5e-4)\n",
        "criterion = torch.nn.CrossEntropyLoss()\n",
        "\n",
        "def train():\n",
        "    model.train()\n",
        "    optimizer.zero_grad()\n",
        "    out = model(data.x, data.edge_index)\n",
        "    loss = criterion(out[data.train_mask], data.y[data.train_mask])\n",
        "    loss.backward()\n",
        "    optimizer.step()\n",
        "    return loss\n",
        "\n",
        "def test(mask):\n",
        "    model.eval()\n",
        "    out = model(data.x, data.edge_index)\n",
        "    pred = out.argmax(dim=1)\n",
        "    correct = pred[mask] == data.y[mask]\n",
        "    acc = int(correct.sum()) / int(mask.sum())\n",
        "    return acc\n",
        "\n",
        "for epoch in range(1, 201):\n",
        "    loss = train()\n",
        "    if epoch % 10 == 0:\n",
        "        print(f'Epoch: {epoch:03d}, Loss: {loss:.4f}')\n",
        "\n",
        "train_acc = test(data.train_mask)\n",
        "val_acc = test(data.val_mask)\n",
        "test_acc = test(data.test_mask)\n",
        "\n",
        "print(f'\\nGCN Model Performance:')\n",
        "print(f'Train Accuracy: {train_acc:.4f}')\n",
        "print(f'Validation Accuracy: {val_acc:.4f}')\n",
        "print(f'Test Accuracy: {test_acc:.4f}')"
      ],
      "metadata": {
        "colab": {
          "base_uri": "https://localhost:8080/"
        },
        "id": "fCq2dtPzsCFn",
        "outputId": "23d832f6-0937-48a9-9175-7c260e366d35"
      },
      "execution_count": 6,
      "outputs": [
        {
          "output_type": "stream",
          "name": "stdout",
          "text": [
            "Epoch: 010, Loss: 0.7676\n",
            "Epoch: 020, Loss: 0.1392\n",
            "Epoch: 030, Loss: 0.0343\n",
            "Epoch: 040, Loss: 0.0169\n",
            "Epoch: 050, Loss: 0.0140\n",
            "Epoch: 060, Loss: 0.0150\n",
            "Epoch: 070, Loss: 0.0167\n",
            "Epoch: 080, Loss: 0.0175\n",
            "Epoch: 090, Loss: 0.0173\n",
            "Epoch: 100, Loss: 0.0164\n",
            "Epoch: 110, Loss: 0.0154\n",
            "Epoch: 120, Loss: 0.0146\n",
            "Epoch: 130, Loss: 0.0138\n",
            "Epoch: 140, Loss: 0.0132\n",
            "Epoch: 150, Loss: 0.0126\n",
            "Epoch: 160, Loss: 0.0121\n",
            "Epoch: 170, Loss: 0.0117\n",
            "Epoch: 180, Loss: 0.0113\n",
            "Epoch: 190, Loss: 0.0109\n",
            "Epoch: 200, Loss: 0.0106\n",
            "\n",
            "GCN Model Performance:\n",
            "Train Accuracy: 1.0000\n",
            "Validation Accuracy: 0.7760\n",
            "Test Accuracy: 0.8070\n"
          ]
        }
      ]
    },
    {
      "cell_type": "code",
      "source": [
        "import pandas as pd\n",
        "\n",
        "hidden_units_list = [16, 32, 64]\n",
        "learning_rate_list = [0.01, 0.001]\n",
        "dropout_list = [0.0, 0.5]\n",
        "\n",
        "results = []\n",
        "\n",
        "class GCNWithDropout(torch.nn.Module):\n",
        "    def __init__(self, hidden_channels, dropout_rate):\n",
        "        super(GCNWithDropout, self).__init__()\n",
        "        self.conv1 = GCNConv(dataset.num_node_features, hidden_channels)\n",
        "        self.conv2 = GCNConv(hidden_channels, dataset.num_classes)\n",
        "        self.dropout = torch.nn.Dropout(p=dropout_rate)\n",
        "\n",
        "    def forward(self, x, edge_index):\n",
        "        x = self.conv1(x, edge_index)\n",
        "        x = x.relu()\n",
        "        x = self.dropout(x)\n",
        "        x = self.conv2(x, edge_index)\n",
        "        return x\n",
        "\n",
        "for hidden_units in hidden_units_list:\n",
        "    for lr in learning_rate_list:\n",
        "        for dropout in dropout_list:\n",
        "            model = GCNWithDropout(hidden_channels=hidden_units, dropout_rate=dropout)\n",
        "            optimizer = torch.optim.Adam(model.parameters(), lr=lr, weight_decay=1e-3)\n",
        "\n",
        "            train_losses = []\n",
        "            val_losses = []\n",
        "            val_accuracies = []\n",
        "            patience = 10 # Number of epochs to wait after last improvement\n",
        "            min_val_loss = float('inf')\n",
        "            epochs_no_improve = 0\n",
        "\n",
        "            for epoch in range(1, 201):\n",
        "                train_loss = train()\n",
        "                model.eval()\n",
        "                out = model(data.x, data.edge_index)\n",
        "                val_loss = criterion(out[data.val_mask], data.y[data.val_mask])\n",
        "                if val_loss < min_val_loss:\n",
        "                    min_val_loss = val_loss\n",
        "                    epochs_no_improve = 0\n",
        "                    # Optionally save the best model\n",
        "                    # torch.save(model.state_dict(), 'best_model.pth')\n",
        "                else:\n",
        "                    epochs_no_improve += 1\n",
        "\n",
        "                if epochs_no_improve == patience:\n",
        "                    print(f'Early stopping at epoch {epoch}')\n",
        "                    break\n",
        "                val_acc = test(data.val_mask)\n",
        "\n",
        "                train_losses.append(train_loss.item())\n",
        "                val_losses.append(val_loss.item())\n",
        "                val_accuracies.append(val_acc)\n",
        "\n",
        "            results.append({\n",
        "                'hidden_units': hidden_units,\n",
        "                'learning_rate': lr,\n",
        "                'dropout': dropout,\n",
        "                'best_val_acc': max(val_accuracies),\n",
        "                'train_losses': train_losses,\n",
        "                'val_losses': val_losses\n",
        "            })\n",
        "\n",
        "results_df = pd.DataFrame(results)\n",
        "print(results_df[['hidden_units', 'learning_rate', 'dropout', 'best_val_acc']])\n",
        "\n",
        "# Plot training and validation loss for the best configuration\n",
        "best_config = results_df.loc[results_df['best_val_acc'].idxmax()]\n",
        "plt.figure(figsize=(10, 5))\n",
        "plt.plot(best_config['train_losses'], label='Training Loss')\n",
        "plt.plot(best_config['val_losses'], label='Validation Loss')\n",
        "plt.title(f\"Loss Curves for Best Config: HU={best_config['hidden_units']}, LR={best_config['learning_rate']}, Dropout={best_config['dropout']}\")\n",
        "plt.xlabel('Epochs')\n",
        "plt.ylabel('Loss')\n",
        "plt.legend()\n",
        "plt.show()"
      ],
      "metadata": {
        "colab": {
          "base_uri": "https://localhost:8080/",
          "height": 832
        },
        "id": "mSFahKqQsRti",
        "outputId": "aad23122-736d-4e0e-c817-a0ba4cd06eba"
      },
      "execution_count": 10,
      "outputs": [
        {
          "output_type": "stream",
          "name": "stdout",
          "text": [
            "Early stopping at epoch 167\n",
            "Early stopping at epoch 40\n",
            "Early stopping at epoch 56\n",
            "Early stopping at epoch 29\n",
            "Early stopping at epoch 23\n",
            "Early stopping at epoch 31\n",
            "    hidden_units  learning_rate  dropout  best_val_acc\n",
            "0             16          0.010      0.0         0.776\n",
            "1             16          0.010      0.5         0.794\n",
            "2             16          0.001      0.0         0.744\n",
            "3             16          0.001      0.5         0.766\n",
            "4             32          0.010      0.0         0.800\n",
            "5             32          0.010      0.5         0.780\n",
            "6             32          0.001      0.0         0.782\n",
            "7             32          0.001      0.5         0.780\n",
            "8             64          0.010      0.0         0.784\n",
            "9             64          0.010      0.5         0.802\n",
            "10            64          0.001      0.0         0.784\n",
            "11            64          0.001      0.5         0.788\n"
          ]
        },
        {
          "output_type": "display_data",
          "data": {
            "text/plain": [
              "<Figure size 1000x500 with 1 Axes>"
            ],
            "image/png": "[encoded data removed]"
          },
          "metadata": {}
        }
      ]
    },
    {
      "cell_type": "code",
      "source": [
        "import torch\n",
        "import torch.nn.functional as F\n",
        "from torch.nn import Module, Linear, BatchNorm1d\n",
        "from torch_geometric.datasets import Planetoid\n",
        "from torch_geometric.nn import GATConv, SAGEConv, GINConv\n",
        "\n",
        "# Load the Cora dataset\n",
        "dataset = Planetoid(root='/tmp/Cora', name='Cora')\n",
        "data = dataset[0]\n",
        "\n",
        "# Set device\n",
        "device = torch.device('cuda' if torch.cuda.is_available() else 'cpu')\n",
        "data = data.to(device)\n",
        "\n",
        "# Common training and testing functions\n",
        "def train_model(model, optimizer, criterion):\n",
        "    \"\"\"Generic function to train any of the models.\"\"\"\n",
        "    model.train()\n",
        "    optimizer.zero_grad()\n",
        "    out = model(data.x, data.edge_index)\n",
        "    loss = criterion(out[data.train_mask], data.y[data.train_mask])\n",
        "    loss.backward()\n",
        "    optimizer.step()\n",
        "    return loss.item()\n",
        "\n",
        "@torch.no_grad()\n",
        "def test_model(model):\n",
        "    \"\"\"Generic function to test any of the models.\"\"\"\n",
        "    model.eval()\n",
        "    out = model(data.x, data.edge_index)\n",
        "    pred = out.argmax(dim=1)\n",
        "\n",
        "    accs = {}\n",
        "    for mask_name, mask in data('train_mask', 'val_mask', 'test_mask'):\n",
        "        correct = pred[mask] == data.y[mask]\n",
        "        accs[mask_name] = int(correct.sum()) / int(mask.sum())\n",
        "    return accs"
      ],
      "metadata": {
        "id": "qusjyxjGI0wQ"
      },
      "execution_count": 11,
      "outputs": []
    },
    {
      "cell_type": "code",
      "source": [
        "class GAT(Module):\n",
        "    def __init__(self, hidden_channels, heads):\n",
        "        super(GAT, self).__init__()\n",
        "        # First GAT layer with 8 attention heads\n",
        "        self.conv1 = GATConv(dataset.num_node_features, hidden_channels, heads=heads, dropout=0.3)\n",
        "        # Second GAT layer. Input features are heads * hidden_channels, output is number of classes.\n",
        "        self.conv2 = GATConv(hidden_channels * heads, dataset.num_classes, heads=1, concat=False, dropout=0.3)\n",
        "\n",
        "    def forward(self, x, edge_index):\n",
        "        x = self.conv1(x, edge_index)\n",
        "        x = F.elu(x) # ELU is a common activation for GAT\n",
        "        x = self.conv2(x, edge_index)\n",
        "        return F.log_softmax(x, dim=1)\n",
        "\n",
        "# --- GAT Training and Evaluation ---\n",
        "print(\"--- Training GAT Model ---\")\n",
        "gat_model = GAT(hidden_channels=8, heads=8).to(device)\n",
        "gat_optimizer = torch.optim.Adam(gat_model.parameters(), lr=0.01, weight_decay=5e-4)\n",
        "criterion = torch.nn.CrossEntropyLoss()\n",
        "\n",
        "\n",
        "\n",
        "for epoch in range(1, 201):\n",
        "    loss = train_model(gat_model, gat_optimizer, criterion)\n",
        "    if epoch % 20 == 0:\n",
        "        accs = test_model(gat_model)\n",
        "        print(f'GAT Epoch: {epoch:03d}, Loss: {loss:.4f}, Val Acc: {accs[\"val_mask\"]:.4f}')\n",
        "\n",
        "gat_final_accs = test_model(gat_model)\n",
        "print(f'\\nFinal GAT Performance:')\n",
        "print(f'GAT Train Accuracy: {gat_final_accs[\"train_mask\"]:.4f}')\n",
        "print(f'GAT Validation Accuracy: {gat_final_accs[\"val_mask\"]:.4f}')\n",
        "print(f'GAT Test Accuracy: {gat_final_accs[\"test_mask\"]:.4f}')\n",
        "print(\"-\" * 25)"
      ],
      "metadata": {
        "colab": {
          "base_uri": "https://localhost:8080/"
        },
        "id": "3Gu_cRPPIiMV",
        "outputId": "b7f88767-40fa-4749-c993-65bce8b4ea56"
      },
      "execution_count": 12,
      "outputs": [
        {
          "output_type": "stream",
          "name": "stdout",
          "text": [
            "--- Training GAT Model ---\n",
            "GAT Epoch: 020, Loss: 0.1111, Val Acc: 0.7500\n",
            "GAT Epoch: 040, Loss: 0.1143, Val Acc: 0.7300\n",
            "GAT Epoch: 060, Loss: 0.0440, Val Acc: 0.7500\n",
            "GAT Epoch: 080, Loss: 0.0273, Val Acc: 0.7600\n",
            "GAT Epoch: 100, Loss: 0.0743, Val Acc: 0.7760\n",
            "GAT Epoch: 120, Loss: 0.0810, Val Acc: 0.7700\n",
            "GAT Epoch: 140, Loss: 0.1249, Val Acc: 0.7600\n",
            "GAT Epoch: 160, Loss: 0.0588, Val Acc: 0.7440\n",
            "GAT Epoch: 180, Loss: 0.0657, Val Acc: 0.7580\n",
            "GAT Epoch: 200, Loss: 0.0587, Val Acc: 0.7580\n",
            "\n",
            "Final GAT Performance:\n",
            "GAT Train Accuracy: 1.0000\n",
            "GAT Validation Accuracy: 0.7580\n",
            "GAT Test Accuracy: 0.7920\n",
            "-------------------------\n"
          ]
        }
      ]
    },
    {
      "cell_type": "code",
      "source": [
        "class GraphSAGE(Module):\n",
        "    def __init__(self, hidden_channels):\n",
        "        super(GraphSAGE, self).__init__()\n",
        "        self.conv1 = SAGEConv(dataset.num_node_features, hidden_channels, aggr='mean')\n",
        "        self.conv2 = SAGEConv(hidden_channels, dataset.num_classes, aggr='mean')\n",
        "\n",
        "    def forward(self, x, edge_index):\n",
        "        x = self.conv1(x, edge_index)\n",
        "        x = x.relu()\n",
        "        x = F.dropout(x, p=0.5, training=self.training)\n",
        "        x = self.conv2(x, edge_index)\n",
        "        return F.log_softmax(x, dim=1)\n",
        "\n",
        "# --- GraphSAGE Training and Evaluation ---\n",
        "print(\"\\n--- Training GraphSAGE Model ---\")\n",
        "sage_model = GraphSAGE(hidden_channels=64).to(device)\n",
        "sage_optimizer = torch.optim.Adam(sage_model.parameters(), lr=0.01, weight_decay=5e-4)\n",
        "criterion = torch.nn.CrossEntropyLoss()\n",
        "\n",
        "for epoch in range(1, 201):\n",
        "    loss = train_model(sage_model, sage_optimizer, criterion)\n",
        "    if epoch % 20 == 0:\n",
        "        accs = test_model(sage_model)\n",
        "        print(f'SAGE Epoch: {epoch:03d}, Loss: {loss:.4f}, Val Acc: {accs[\"val_mask\"]:.4f}')\n",
        "\n",
        "sage_final_accs = test_model(sage_model)\n",
        "print(f'\\nFinal GraphSAGE Performance:')\n",
        "print(f'SAGE Train Accuracy: {sage_final_accs[\"train_mask\"]:.4f}')\n",
        "print(f'SAGE Validation Accuracy: {sage_final_accs[\"val_mask\"]:.4f}')\n",
        "print(f'SAGE Test Accuracy: {sage_final_accs[\"test_mask\"]:.4f}')\n",
        "print(\"-\" * 25)"
      ],
      "metadata": {
        "colab": {
          "base_uri": "https://localhost:8080/"
        },
        "id": "4nNpMfBNJloR",
        "outputId": "2d78058e-bf75-4b1f-9e20-52c198320027"
      },
      "execution_count": 13,
      "outputs": [
        {
          "output_type": "stream",
          "name": "stdout",
          "text": [
            "\n",
            "--- Training GraphSAGE Model ---\n",
            "SAGE Epoch: 020, Loss: 0.0012, Val Acc: 0.7640\n",
            "SAGE Epoch: 040, Loss: 0.0060, Val Acc: 0.7640\n",
            "SAGE Epoch: 060, Loss: 0.0035, Val Acc: 0.7740\n",
            "SAGE Epoch: 080, Loss: 0.0068, Val Acc: 0.7600\n",
            "SAGE Epoch: 100, Loss: 0.0055, Val Acc: 0.7720\n",
            "SAGE Epoch: 120, Loss: 0.0043, Val Acc: 0.7720\n",
            "SAGE Epoch: 140, Loss: 0.0045, Val Acc: 0.7720\n",
            "SAGE Epoch: 160, Loss: 0.0033, Val Acc: 0.7740\n",
            "SAGE Epoch: 180, Loss: 0.0049, Val Acc: 0.7700\n",
            "SAGE Epoch: 200, Loss: 0.0036, Val Acc: 0.7720\n",
            "\n",
            "Final GraphSAGE Performance:\n",
            "SAGE Train Accuracy: 1.0000\n",
            "SAGE Validation Accuracy: 0.7720\n",
            "SAGE Test Accuracy: 0.8030\n",
            "-------------------------\n"
          ]
        }
      ]
    }
  ]
}